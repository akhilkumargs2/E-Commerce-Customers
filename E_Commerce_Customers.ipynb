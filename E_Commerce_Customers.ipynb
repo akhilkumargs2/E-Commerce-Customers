{
  "nbformat": 4,
  "nbformat_minor": 0,
  "metadata": {
    "colab": {
      "name": "E-Commerce Customers.ipynb",
      "provenance": [],
      "collapsed_sections": []
    },
    "kernelspec": {
      "name": "python3",
      "display_name": "Python 3"
    },
    "language_info": {
      "name": "python"
    }
  },
  "cells": [
    {
      "cell_type": "markdown",
      "metadata": {
        "id": "auXtuHkGX4Zn"
      },
      "source": [
        "# Imports"
      ]
    },
    {
      "cell_type": "code",
      "metadata": {
        "id": "FMjlcOiWulsm"
      },
      "source": [
        "import pandas as pd"
      ],
      "execution_count": null,
      "outputs": []
    },
    {
      "cell_type": "markdown",
      "metadata": {
        "id": "-xCXcJFSX6TQ"
      },
      "source": [
        "# Data Collection"
      ]
    },
    {
      "cell_type": "code",
      "metadata": {
        "id": "09HLkyVhuvyP",
        "colab": {
          "base_uri": "https://localhost:8080/"
        },
        "outputId": "f28566d5-aa1b-4f67-925b-3e86b24df80c"
      },
      "source": [
        "!wget https://nkb-backend-otg-media-static.s3.ap-south-1.amazonaws.com/otg_prod/media/Tech_4.0/AI_ML/CCBP_Platform_Projects/E_Commerce/train_X_ec.csv\n",
        "!wget https://nkb-backend-otg-media-static.s3.ap-south-1.amazonaws.com/otg_prod/media/Tech_4.0/AI_ML/CCBP_Platform_Projects/E_Commerce/train_Y_ec.csv\n",
        "!wget https://nkb-backend-otg-media-static.s3.ap-south-1.amazonaws.com/otg_prod/media/Tech_4.0/AI_ML/CCBP_Platform_Projects/E_Commerce/test_X_ec.csv"
      ],
      "execution_count": null,
      "outputs": [
        {
          "output_type": "stream",
          "name": "stdout",
          "text": [
            "--2021-09-16 12:48:09--  https://nkb-backend-otg-media-static.s3.ap-south-1.amazonaws.com/otg_prod/media/Tech_4.0/AI_ML/CCBP_Platform_Projects/E_Commerce/train_X_ec.csv\n",
            "Resolving nkb-backend-otg-media-static.s3.ap-south-1.amazonaws.com (nkb-backend-otg-media-static.s3.ap-south-1.amazonaws.com)... 52.219.62.52\n",
            "Connecting to nkb-backend-otg-media-static.s3.ap-south-1.amazonaws.com (nkb-backend-otg-media-static.s3.ap-south-1.amazonaws.com)|52.219.62.52|:443... connected.\n",
            "HTTP request sent, awaiting response... 200 OK\n",
            "Length: 27774 (27K) [text/csv]\n",
            "Saving to: ‘train_X_ec.csv’\n",
            "\n",
            "train_X_ec.csv      100%[===================>]  27.12K   109KB/s    in 0.2s    \n",
            "\n",
            "2021-09-16 12:48:11 (109 KB/s) - ‘train_X_ec.csv’ saved [27774/27774]\n",
            "\n",
            "--2021-09-16 12:48:11--  https://nkb-backend-otg-media-static.s3.ap-south-1.amazonaws.com/otg_prod/media/Tech_4.0/AI_ML/CCBP_Platform_Projects/E_Commerce/train_Y_ec.csv\n",
            "Resolving nkb-backend-otg-media-static.s3.ap-south-1.amazonaws.com (nkb-backend-otg-media-static.s3.ap-south-1.amazonaws.com)... 52.219.62.52\n",
            "Connecting to nkb-backend-otg-media-static.s3.ap-south-1.amazonaws.com (nkb-backend-otg-media-static.s3.ap-south-1.amazonaws.com)|52.219.62.52|:443... connected.\n",
            "HTTP request sent, awaiting response... 200 OK\n",
            "Length: 7060 (6.9K) [text/csv]\n",
            "Saving to: ‘train_Y_ec.csv’\n",
            "\n",
            "train_Y_ec.csv      100%[===================>]   6.89K  --.-KB/s    in 0s      \n",
            "\n",
            "2021-09-16 12:48:12 (16.3 MB/s) - ‘train_Y_ec.csv’ saved [7060/7060]\n",
            "\n",
            "--2021-09-16 12:48:12--  https://nkb-backend-otg-media-static.s3.ap-south-1.amazonaws.com/otg_prod/media/Tech_4.0/AI_ML/CCBP_Platform_Projects/E_Commerce/test_X_ec.csv\n",
            "Resolving nkb-backend-otg-media-static.s3.ap-south-1.amazonaws.com (nkb-backend-otg-media-static.s3.ap-south-1.amazonaws.com)... 52.219.62.52\n",
            "Connecting to nkb-backend-otg-media-static.s3.ap-south-1.amazonaws.com (nkb-backend-otg-media-static.s3.ap-south-1.amazonaws.com)|52.219.62.52|:443... connected.\n",
            "HTTP request sent, awaiting response... 200 OK\n",
            "Length: 9424 (9.2K) [text/csv]\n",
            "Saving to: ‘test_X_ec.csv’\n",
            "\n",
            "test_X_ec.csv       100%[===================>]   9.20K  --.-KB/s    in 0s      \n",
            "\n",
            "2021-09-16 12:48:13 (165 MB/s) - ‘test_X_ec.csv’ saved [9424/9424]\n",
            "\n"
          ]
        }
      ]
    },
    {
      "cell_type": "code",
      "metadata": {
        "id": "HoJx-RR61Sk2"
      },
      "source": [
        "train_X_df = pd.read_csv('train_X_ec.csv')\n",
        "train_Y_df = pd.read_csv('train_Y_ec.csv', header=None).squeeze()\n",
        "test_X_df = pd.read_csv('test_X_ec.csv')"
      ],
      "execution_count": null,
      "outputs": []
    },
    {
      "cell_type": "markdown",
      "metadata": {
        "id": "HMZqYCRjofOV"
      },
      "source": [
        "# Understanding the data"
      ]
    },
    {
      "cell_type": "code",
      "metadata": {
        "colab": {
          "base_uri": "https://localhost:8080/",
          "height": 417
        },
        "id": "Yf0s5K6Hhxy1",
        "outputId": "1acb16ec-c329-4bcd-d273-ff31fe8e2dc8"
      },
      "source": [
        "train_X_df"
      ],
      "execution_count": null,
      "outputs": [
        {
          "output_type": "execute_result",
          "data": {
            "text/html": [
              "<div>\n",
              "<style scoped>\n",
              "    .dataframe tbody tr th:only-of-type {\n",
              "        vertical-align: middle;\n",
              "    }\n",
              "\n",
              "    .dataframe tbody tr th {\n",
              "        vertical-align: top;\n",
              "    }\n",
              "\n",
              "    .dataframe thead th {\n",
              "        text-align: right;\n",
              "    }\n",
              "</style>\n",
              "<table border=\"1\" class=\"dataframe\">\n",
              "  <thead>\n",
              "    <tr style=\"text-align: right;\">\n",
              "      <th></th>\n",
              "      <th>Time Spent on Website</th>\n",
              "      <th>Duration of Membership</th>\n",
              "      <th>Time Spent on App</th>\n",
              "      <th>Session Duration\\t</th>\n",
              "    </tr>\n",
              "  </thead>\n",
              "  <tbody>\n",
              "    <tr>\n",
              "      <th>0</th>\n",
              "      <td>69.156561</td>\n",
              "      <td>20.457356</td>\n",
              "      <td>32.219553</td>\n",
              "      <td>62.186251</td>\n",
              "    </tr>\n",
              "    <tr>\n",
              "      <th>1</th>\n",
              "      <td>67.975829</td>\n",
              "      <td>19.787373</td>\n",
              "      <td>30.887689</td>\n",
              "      <td>57.816544</td>\n",
              "    </tr>\n",
              "    <tr>\n",
              "      <th>2</th>\n",
              "      <td>66.702558</td>\n",
              "      <td>18.986008</td>\n",
              "      <td>32.711838</td>\n",
              "      <td>58.286399</td>\n",
              "    </tr>\n",
              "    <tr>\n",
              "      <th>3</th>\n",
              "      <td>65.371799</td>\n",
              "      <td>19.474788</td>\n",
              "      <td>29.409797</td>\n",
              "      <td>62.118480</td>\n",
              "    </tr>\n",
              "    <tr>\n",
              "      <th>4</th>\n",
              "      <td>66.551924</td>\n",
              "      <td>18.933956</td>\n",
              "      <td>32.462605</td>\n",
              "      <td>59.442156</td>\n",
              "    </tr>\n",
              "    <tr>\n",
              "      <th>...</th>\n",
              "      <td>...</td>\n",
              "      <td>...</td>\n",
              "      <td>...</td>\n",
              "      <td>...</td>\n",
              "    </tr>\n",
              "    <tr>\n",
              "      <th>369</th>\n",
              "      <td>68.259847</td>\n",
              "      <td>18.797766</td>\n",
              "      <td>31.374397</td>\n",
              "      <td>60.997459</td>\n",
              "    </tr>\n",
              "    <tr>\n",
              "      <th>370</th>\n",
              "      <td>66.542426</td>\n",
              "      <td>19.151099</td>\n",
              "      <td>31.890124</td>\n",
              "      <td>62.672003</td>\n",
              "    </tr>\n",
              "    <tr>\n",
              "      <th>371</th>\n",
              "      <td>65.098581</td>\n",
              "      <td>18.278514</td>\n",
              "      <td>32.896052</td>\n",
              "      <td>59.292303</td>\n",
              "    </tr>\n",
              "    <tr>\n",
              "      <th>372</th>\n",
              "      <td>64.446483</td>\n",
              "      <td>20.232239</td>\n",
              "      <td>32.636058</td>\n",
              "      <td>60.393138</td>\n",
              "    </tr>\n",
              "    <tr>\n",
              "      <th>373</th>\n",
              "      <td>67.311136</td>\n",
              "      <td>19.406190</td>\n",
              "      <td>31.700019</td>\n",
              "      <td>59.035496</td>\n",
              "    </tr>\n",
              "  </tbody>\n",
              "</table>\n",
              "<p>374 rows × 4 columns</p>\n",
              "</div>"
            ],
            "text/plain": [
              "     Time Spent on Website  ...  Session Duration\\t\n",
              "0                69.156561  ...           62.186251\n",
              "1                67.975829  ...           57.816544\n",
              "2                66.702558  ...           58.286399\n",
              "3                65.371799  ...           62.118480\n",
              "4                66.551924  ...           59.442156\n",
              "..                     ...  ...                 ...\n",
              "369              68.259847  ...           60.997459\n",
              "370              66.542426  ...           62.672003\n",
              "371              65.098581  ...           59.292303\n",
              "372              64.446483  ...           60.393138\n",
              "373              67.311136  ...           59.035496\n",
              "\n",
              "[374 rows x 4 columns]"
            ]
          },
          "metadata": {},
          "execution_count": 5
        }
      ]
    },
    {
      "cell_type": "code",
      "metadata": {
        "colab": {
          "base_uri": "https://localhost:8080/"
        },
        "id": "WLwu3p-8h-jS",
        "outputId": "a612a46a-e4dc-4795-b7aa-d3501212e66b"
      },
      "source": [
        "train_X_df.dtypes"
      ],
      "execution_count": null,
      "outputs": [
        {
          "output_type": "execute_result",
          "data": {
            "text/plain": [
              "Time Spent on Website     float64\n",
              "Duration of Membership    float64\n",
              "Time Spent on App         float64\n",
              "Session Duration\\t        float64\n",
              "dtype: object"
            ]
          },
          "metadata": {},
          "execution_count": 6
        }
      ]
    },
    {
      "cell_type": "code",
      "metadata": {
        "colab": {
          "base_uri": "https://localhost:8080/"
        },
        "id": "nb755MoviWJf",
        "outputId": "9851c40d-d551-4f62-cce1-e592c1c512c2"
      },
      "source": [
        "train_X_df.isna().sum()"
      ],
      "execution_count": null,
      "outputs": [
        {
          "output_type": "execute_result",
          "data": {
            "text/plain": [
              "Time Spent on Website     0\n",
              "Duration of Membership    0\n",
              "Time Spent on App         0\n",
              "Session Duration\\t        0\n",
              "dtype: int64"
            ]
          },
          "metadata": {},
          "execution_count": 7
        }
      ]
    },
    {
      "cell_type": "markdown",
      "metadata": {
        "id": "vMUxuFngkGK4"
      },
      "source": [
        "# Implementation"
      ]
    },
    {
      "cell_type": "code",
      "metadata": {
        "id": "bHGew5y-jlnJ"
      },
      "source": [
        "from sklearn.pipeline import Pipeline\n",
        "from sklearn.preprocessing import MinMaxScaler, StandardScaler, RobustScaler\n",
        "from sklearn.linear_model import LinearRegression\n",
        "\n",
        "pipe = Pipeline(steps=[('scaler', RobustScaler()),\n",
        "                       ('classifier', LinearRegression())])"
      ],
      "execution_count": null,
      "outputs": []
    },
    {
      "cell_type": "code",
      "metadata": {
        "colab": {
          "base_uri": "https://localhost:8080/"
        },
        "id": "QEWFK6HKsn1z",
        "outputId": "40810327-ca07-4b4c-d7bd-f90460bc7391"
      },
      "source": [
        "from sklearn.linear_model import Ridge\n",
        "from sklearn.linear_model import Lasso\n",
        "from sklearn.model_selection import RandomizedSearchCV\n",
        "\n",
        "\n",
        "param_distributions = {\n",
        "    'scaler': [ StandardScaler(), MinMaxScaler(), RobustScaler(), 'passthrough'],\n",
        "    'classifier': [LinearRegression(), Ridge(), Lasso()]\n",
        "}\n",
        "\n",
        "random_search_cv = RandomizedSearchCV(pipe, param_distributions=param_distributions, n_iter=20, scoring='neg_mean_squared_error', refit=True, cv=5, random_state=42) \n",
        "random_search_cv.fit(train_X_df, train_Y_df)\n",
        "print(random_search_cv.best_params_)"
      ],
      "execution_count": null,
      "outputs": [
        {
          "output_type": "stream",
          "name": "stderr",
          "text": [
            "/usr/local/lib/python3.7/dist-packages/sklearn/model_selection/_search.py:281: UserWarning: The total space of parameters 12 is smaller than n_iter=20. Running 12 iterations. For exhaustive searches, use GridSearchCV.\n",
            "  % (grid_size, self.n_iter, grid_size), UserWarning)\n"
          ]
        },
        {
          "output_type": "stream",
          "name": "stdout",
          "text": [
            "{'scaler': StandardScaler(copy=True, with_mean=True, with_std=True), 'classifier': LinearRegression(copy_X=True, fit_intercept=True, n_jobs=None, normalize=False)}\n"
          ]
        }
      ]
    },
    {
      "cell_type": "code",
      "metadata": {
        "colab": {
          "base_uri": "https://localhost:8080/"
        },
        "id": "v8c8klZOvTtm",
        "outputId": "cc00d70e-6cc1-4ea1-f67d-ae20fe406283"
      },
      "source": [
        "random_search_cv.score(train_X_df, train_Y_df)"
      ],
      "execution_count": null,
      "outputs": [
        {
          "output_type": "execute_result",
          "data": {
            "text/plain": [
              "-214.77131654928323"
            ]
          },
          "metadata": {},
          "execution_count": 10
        }
      ]
    },
    {
      "cell_type": "code",
      "metadata": {
        "id": "iiZ0v9brvtAr"
      },
      "source": [
        "best_model = random_search_cv.best_estimator_\n",
        "predicted_test_Y = best_model.predict(test_X_df)"
      ],
      "execution_count": null,
      "outputs": []
    },
    {
      "cell_type": "markdown",
      "metadata": {
        "id": "LS-bO56FMt8p"
      },
      "source": [
        "Writing the predicted values to CSV file"
      ]
    },
    {
      "cell_type": "code",
      "metadata": {
        "id": "ukTLnsCzMwJE"
      },
      "source": [
        "pd.DataFrame(predicted_test_Y).to_csv('predicted_test_Y_ec.csv', header=None, index=False)"
      ],
      "execution_count": null,
      "outputs": []
    }
  ]
}